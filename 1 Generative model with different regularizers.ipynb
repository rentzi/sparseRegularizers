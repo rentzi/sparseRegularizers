{
 "cells": [
  {
   "cell_type": "markdown",
   "id": "7d3ca9b9",
   "metadata": {},
   "source": [
    "\n",
    "### Implementation of sparse coding and learning with different regularizers\n",
    "#### Regularizers: ISTA, Hard thresholding, $\\lambda_{1/2}$ thresholding, and CEL0"
   ]
  },
  {
   "cell_type": "code",
   "execution_count": 1,
   "id": "06cf6d86",
   "metadata": {},
   "outputs": [],
   "source": [
    "import numpy as np\n",
    "import matplotlib.pyplot as plt\n",
    "from tqdm.notebook import tqdm\n",
    "\n",
    "import utils\n",
    "from generativeModels import SparseModel, runModelSim\n"
   ]
  },
  {
   "cell_type": "markdown",
   "id": "14627dde",
   "metadata": {},
   "source": [
    "### Functions used for plotting"
   ]
  },
  {
   "cell_type": "code",
   "execution_count": 2,
   "id": "e79eed51",
   "metadata": {},
   "outputs": [],
   "source": [
    "#gets the Phis from the model and draws them in 2-d numUnitsXnumUnits\n",
    "def plotReceptiveFields(Phi, numUnits, sz):\n",
    "\n",
    "    # Plot Receptive fields\n",
    "    fig = plt.figure(figsize=(20,20))\n",
    "    plt.subplots_adjust(hspace=0.1, wspace=0.1)\n",
    "    columns = int(np.floor(numUnits/25))\n",
    "    rows = int(np.floor(numUnits/columns))\n",
    "    for i in range(numUnits):\n",
    "        plt.subplot(rows, columns, i+1)\n",
    "        plt.imshow(np.reshape(Phi[:, i], (sz, sz)), cmap=\"gray\")\n",
    "        plt.axis(\"off\")\n",
    "\n",
    "    fig.suptitle(\"Receptive fields\", fontsize=20)\n",
    "    plt.subplots_adjust(top=0.9)\n",
    "    #plt.show()\n"
   ]
  },
  {
   "cell_type": "code",
   "execution_count": 3,
   "id": "5bc7e015",
   "metadata": {},
   "outputs": [],
   "source": [
    "#Plots the error as a function of iterations\n",
    "def plotError(errorList, color = 'r' ):\n",
    "\n",
    "    # Plot error\n",
    "    plt.figure(figsize=(5, 3))\n",
    "    plt.ylabel(\"Error\")\n",
    "    plt.xlabel(\"Iterations\")\n",
    "    plt.plot(np.arange(len(errorList)), np.array(errorList),color = color)\n",
    "    plt.tight_layout()\n",
    "    plt.show() "
   ]
  },
  {
   "cell_type": "markdown",
   "id": "a51acf72",
   "metadata": {},
   "source": [
    "## Generative model with thresholding function\n",
    "\n",
    "#### Define the network implemented above as a model. Also, initialize the constants used in the simulation.\n",
    "\n",
    "#### *Change the variable `flagMethod` depending on what thresholding function you want to use: `soft`,`hard1`,`half`, or `CEL0` \n",
    "#### Change the variable `numUnits` depending on how many units ($\\phi$ vectors) you wish to have\n",
    "\n",
    "#### `batchSize` indicates the number of input patches that are processed at once to produce (for them) sparse codes and at the end adjust the $\\phi$ vectors (do the learning)\n",
    "\n",
    "#### `numIter` indicates the number of different batches you use. `numRSeqs = numIter*batchSize` is the number of input image patches we need "
   ]
  },
  {
   "cell_type": "code",
   "execution_count": 4,
   "id": "232cf5f9",
   "metadata": {},
   "outputs": [
    {
     "data": {
      "application/vnd.jupyter.widget-view+json": {
       "model_id": "bcb3b2a37fd549518176bd8a0403a230",
       "version_major": 2,
       "version_minor": 0
      },
      "text/plain": [
       "  0%|          | 0/4000 [00:00<?, ?it/s]"
      ]
     },
     "metadata": {},
     "output_type": "display_data"
    },
    {
     "name": "stdout",
     "output_type": "stream",
     "text": [
      "iter: 100/4000, Moving error: 0.027646212070531456\n"
     ]
    },
    {
     "ename": "KeyboardInterrupt",
     "evalue": "",
     "output_type": "error",
     "traceback": [
      "\u001b[0;31m---------------------------------------------------------------------------\u001b[0m",
      "\u001b[0;31mKeyboardInterrupt\u001b[0m                         Traceback (most recent call last)",
      "\u001b[0;32m/var/folders/fs/5r5gn3d92ngg52qjg359nmrr0000gn/T/ipykernel_45257/155209122.py\u001b[0m in \u001b[0;36m<module>\u001b[0;34m\u001b[0m\n\u001b[1;32m     27\u001b[0m \u001b[0;34m\u001b[0m\u001b[0m\n\u001b[1;32m     28\u001b[0m \u001b[0;31m#Run the model for all the input image patches\u001b[0m\u001b[0;34m\u001b[0m\u001b[0;34m\u001b[0m\u001b[0;34m\u001b[0m\u001b[0m\n\u001b[0;32m---> 29\u001b[0;31m \u001b[0mmodel\u001b[0m\u001b[0;34m,\u001b[0m\u001b[0mrAll_\u001b[0m\u001b[0;34m,\u001b[0m \u001b[0merrorList\u001b[0m \u001b[0;34m=\u001b[0m \u001b[0mrunModelSim\u001b[0m\u001b[0;34m(\u001b[0m\u001b[0mmodel\u001b[0m\u001b[0;34m,\u001b[0m\u001b[0mnumIter\u001b[0m\u001b[0;34m,\u001b[0m\u001b[0mbatchSize\u001b[0m\u001b[0;34m,\u001b[0m\u001b[0minputsAll\u001b[0m\u001b[0;34m,\u001b[0m\u001b[0mrInitZeros\u001b[0m\u001b[0;34m)\u001b[0m\u001b[0;34m\u001b[0m\u001b[0;34m\u001b[0m\u001b[0m\n\u001b[0m",
      "\u001b[0;32m~/Desktop/_ProjectParisSaclay/_sparseCoding/manuscript/sparseRegularizers/generativeModels.py\u001b[0m in \u001b[0;36mrunModelSim\u001b[0;34m(model, numIter, batchSize, inputsAll, rAll, ntMax, eps)\u001b[0m\n\u001b[1;32m    214\u001b[0m \u001b[0;34m\u001b[0m\u001b[0m\n\u001b[1;32m    215\u001b[0m             \u001b[0;31m# Compute norm of r\u001b[0m\u001b[0;34m\u001b[0m\u001b[0;34m\u001b[0m\u001b[0;34m\u001b[0m\u001b[0m\n\u001b[0;32m--> 216\u001b[0;31m             \u001b[0mdrNorm\u001b[0m \u001b[0;34m=\u001b[0m \u001b[0mnp\u001b[0m\u001b[0;34m.\u001b[0m\u001b[0mlinalg\u001b[0m\u001b[0;34m.\u001b[0m\u001b[0mnorm\u001b[0m\u001b[0;34m(\u001b[0m\u001b[0mdr\u001b[0m\u001b[0;34m,\u001b[0m \u001b[0mord\u001b[0m\u001b[0;34m=\u001b[0m\u001b[0;36m2\u001b[0m\u001b[0;34m)\u001b[0m \u001b[0;34m/\u001b[0m \u001b[0;34m(\u001b[0m\u001b[0meps\u001b[0m \u001b[0;34m+\u001b[0m \u001b[0mnp\u001b[0m\u001b[0;34m.\u001b[0m\u001b[0mlinalg\u001b[0m\u001b[0;34m.\u001b[0m\u001b[0mnorm\u001b[0m\u001b[0;34m(\u001b[0m\u001b[0mrTemp\u001b[0m\u001b[0;34m,\u001b[0m \u001b[0mord\u001b[0m\u001b[0;34m=\u001b[0m\u001b[0;36m2\u001b[0m\u001b[0;34m)\u001b[0m\u001b[0;34m)\u001b[0m\u001b[0;34m\u001b[0m\u001b[0;34m\u001b[0m\u001b[0m\n\u001b[0m\u001b[1;32m    217\u001b[0m             \u001b[0mrTemp\u001b[0m \u001b[0;34m=\u001b[0m \u001b[0mr\u001b[0m \u001b[0;31m# update rTemp\u001b[0m\u001b[0;34m\u001b[0m\u001b[0;34m\u001b[0m\u001b[0m\n\u001b[1;32m    218\u001b[0m \u001b[0;34m\u001b[0m\u001b[0m\n",
      "\u001b[0;32m<__array_function__ internals>\u001b[0m in \u001b[0;36mnorm\u001b[0;34m(*args, **kwargs)\u001b[0m\n",
      "\u001b[0;32m/usr/local/lib/python3.7/site-packages/numpy/linalg/linalg.py\u001b[0m in \u001b[0;36mnorm\u001b[0;34m(x, ord, axis, keepdims)\u001b[0m\n\u001b[1;32m   2577\u001b[0m             \u001b[0;32mraise\u001b[0m \u001b[0mValueError\u001b[0m\u001b[0;34m(\u001b[0m\u001b[0;34m'Duplicate axes given.'\u001b[0m\u001b[0;34m)\u001b[0m\u001b[0;34m\u001b[0m\u001b[0;34m\u001b[0m\u001b[0m\n\u001b[1;32m   2578\u001b[0m         \u001b[0;32mif\u001b[0m \u001b[0mord\u001b[0m \u001b[0;34m==\u001b[0m \u001b[0;36m2\u001b[0m\u001b[0;34m:\u001b[0m\u001b[0;34m\u001b[0m\u001b[0;34m\u001b[0m\u001b[0m\n\u001b[0;32m-> 2579\u001b[0;31m             \u001b[0mret\u001b[0m \u001b[0;34m=\u001b[0m  \u001b[0m_multi_svd_norm\u001b[0m\u001b[0;34m(\u001b[0m\u001b[0mx\u001b[0m\u001b[0;34m,\u001b[0m \u001b[0mrow_axis\u001b[0m\u001b[0;34m,\u001b[0m \u001b[0mcol_axis\u001b[0m\u001b[0;34m,\u001b[0m \u001b[0mamax\u001b[0m\u001b[0;34m)\u001b[0m\u001b[0;34m\u001b[0m\u001b[0;34m\u001b[0m\u001b[0m\n\u001b[0m\u001b[1;32m   2580\u001b[0m         \u001b[0;32melif\u001b[0m \u001b[0mord\u001b[0m \u001b[0;34m==\u001b[0m \u001b[0;34m-\u001b[0m\u001b[0;36m2\u001b[0m\u001b[0;34m:\u001b[0m\u001b[0;34m\u001b[0m\u001b[0;34m\u001b[0m\u001b[0m\n\u001b[1;32m   2581\u001b[0m             \u001b[0mret\u001b[0m \u001b[0;34m=\u001b[0m \u001b[0m_multi_svd_norm\u001b[0m\u001b[0;34m(\u001b[0m\u001b[0mx\u001b[0m\u001b[0;34m,\u001b[0m \u001b[0mrow_axis\u001b[0m\u001b[0;34m,\u001b[0m \u001b[0mcol_axis\u001b[0m\u001b[0;34m,\u001b[0m \u001b[0mamin\u001b[0m\u001b[0;34m)\u001b[0m\u001b[0;34m\u001b[0m\u001b[0;34m\u001b[0m\u001b[0m\n",
      "\u001b[0;32m/usr/local/lib/python3.7/site-packages/numpy/linalg/linalg.py\u001b[0m in \u001b[0;36m_multi_svd_norm\u001b[0;34m(x, row_axis, col_axis, op)\u001b[0m\n\u001b[1;32m   2353\u001b[0m     \"\"\"\n\u001b[1;32m   2354\u001b[0m     \u001b[0my\u001b[0m \u001b[0;34m=\u001b[0m \u001b[0mmoveaxis\u001b[0m\u001b[0;34m(\u001b[0m\u001b[0mx\u001b[0m\u001b[0;34m,\u001b[0m \u001b[0;34m(\u001b[0m\u001b[0mrow_axis\u001b[0m\u001b[0;34m,\u001b[0m \u001b[0mcol_axis\u001b[0m\u001b[0;34m)\u001b[0m\u001b[0;34m,\u001b[0m \u001b[0;34m(\u001b[0m\u001b[0;34m-\u001b[0m\u001b[0;36m2\u001b[0m\u001b[0;34m,\u001b[0m \u001b[0;34m-\u001b[0m\u001b[0;36m1\u001b[0m\u001b[0;34m)\u001b[0m\u001b[0;34m)\u001b[0m\u001b[0;34m\u001b[0m\u001b[0;34m\u001b[0m\u001b[0m\n\u001b[0;32m-> 2355\u001b[0;31m     \u001b[0mresult\u001b[0m \u001b[0;34m=\u001b[0m \u001b[0mop\u001b[0m\u001b[0;34m(\u001b[0m\u001b[0msvd\u001b[0m\u001b[0;34m(\u001b[0m\u001b[0my\u001b[0m\u001b[0;34m,\u001b[0m \u001b[0mcompute_uv\u001b[0m\u001b[0;34m=\u001b[0m\u001b[0;32mFalse\u001b[0m\u001b[0;34m)\u001b[0m\u001b[0;34m,\u001b[0m \u001b[0maxis\u001b[0m\u001b[0;34m=\u001b[0m\u001b[0;34m-\u001b[0m\u001b[0;36m1\u001b[0m\u001b[0;34m)\u001b[0m\u001b[0;34m\u001b[0m\u001b[0;34m\u001b[0m\u001b[0m\n\u001b[0m\u001b[1;32m   2356\u001b[0m     \u001b[0;32mreturn\u001b[0m \u001b[0mresult\u001b[0m\u001b[0;34m\u001b[0m\u001b[0;34m\u001b[0m\u001b[0m\n\u001b[1;32m   2357\u001b[0m \u001b[0;34m\u001b[0m\u001b[0m\n",
      "\u001b[0;32m<__array_function__ internals>\u001b[0m in \u001b[0;36msvd\u001b[0;34m(*args, **kwargs)\u001b[0m\n",
      "\u001b[0;32m/usr/local/lib/python3.7/site-packages/numpy/linalg/linalg.py\u001b[0m in \u001b[0;36msvd\u001b[0;34m(a, full_matrices, compute_uv, hermitian)\u001b[0m\n\u001b[1;32m   1670\u001b[0m \u001b[0;34m\u001b[0m\u001b[0m\n\u001b[1;32m   1671\u001b[0m         \u001b[0msignature\u001b[0m \u001b[0;34m=\u001b[0m \u001b[0;34m'D->d'\u001b[0m \u001b[0;32mif\u001b[0m \u001b[0misComplexType\u001b[0m\u001b[0;34m(\u001b[0m\u001b[0mt\u001b[0m\u001b[0;34m)\u001b[0m \u001b[0;32melse\u001b[0m \u001b[0;34m'd->d'\u001b[0m\u001b[0;34m\u001b[0m\u001b[0;34m\u001b[0m\u001b[0m\n\u001b[0;32m-> 1672\u001b[0;31m         \u001b[0ms\u001b[0m \u001b[0;34m=\u001b[0m \u001b[0mgufunc\u001b[0m\u001b[0;34m(\u001b[0m\u001b[0ma\u001b[0m\u001b[0;34m,\u001b[0m \u001b[0msignature\u001b[0m\u001b[0;34m=\u001b[0m\u001b[0msignature\u001b[0m\u001b[0;34m,\u001b[0m \u001b[0mextobj\u001b[0m\u001b[0;34m=\u001b[0m\u001b[0mextobj\u001b[0m\u001b[0;34m)\u001b[0m\u001b[0;34m\u001b[0m\u001b[0;34m\u001b[0m\u001b[0m\n\u001b[0m\u001b[1;32m   1673\u001b[0m         \u001b[0ms\u001b[0m \u001b[0;34m=\u001b[0m \u001b[0ms\u001b[0m\u001b[0;34m.\u001b[0m\u001b[0mastype\u001b[0m\u001b[0;34m(\u001b[0m\u001b[0m_realType\u001b[0m\u001b[0;34m(\u001b[0m\u001b[0mresult_t\u001b[0m\u001b[0;34m)\u001b[0m\u001b[0;34m,\u001b[0m \u001b[0mcopy\u001b[0m\u001b[0;34m=\u001b[0m\u001b[0;32mFalse\u001b[0m\u001b[0;34m)\u001b[0m\u001b[0;34m\u001b[0m\u001b[0;34m\u001b[0m\u001b[0m\n\u001b[1;32m   1674\u001b[0m         \u001b[0;32mreturn\u001b[0m \u001b[0ms\u001b[0m\u001b[0;34m\u001b[0m\u001b[0;34m\u001b[0m\u001b[0m\n",
      "\u001b[0;31mKeyboardInterrupt\u001b[0m: "
     ]
    }
   ],
   "source": [
    "flagMethod = 'soft' #flagMethod = 'hard1';flagMethod = 'half';flagMethod = 'CEL0'\n",
    "numUnits = 500# number of neurons (units)\n",
    "\n",
    "\n",
    "#number of input patches = number of iterationsXbatch size\n",
    "numIter = 4000; batchSize = 250; numRSeqs = numIter*batchSize \n",
    "sz = 16 # image patch size\n",
    "\n",
    "# Define model\n",
    "lmda = {};lrR = {}\n",
    "lmda['soft'] = 4.1e-1; lrR['soft'] = 1e-2\n",
    "lmda['hard1'] = 1.3e-2; lrR['hard1'] = 1e-2\n",
    "lmda['half'] = 1.3e-1; lrR['half'] = 1e-2\n",
    "lmda['CEL0'] = 4.5e-1; lrR['CEL0'] = 1e-1\n",
    "\n",
    "# Define model\n",
    "model = SparseModel(sz**2,numUnits, batchSize,lmda[flagMethod],flagMethod ,lrR[flagMethod])\n",
    "\n",
    "\n",
    "#Load the images\n",
    "fileLoad = 'data/DoGPatchesScaleShift.pckl'\n",
    "#Get the whitened cropped imagess that we are going to use for all algorithms\n",
    "inputsAll = utils.loadVar(fileLoad)\n",
    "#the initial r's are all zero\n",
    "rInitZeros = np.zeros((numRSeqs,numUnits))\n",
    "\n",
    "\n",
    "#Run the model for all the input image patches\n",
    "model,rAll_, errorList = runModelSim(model,numIter,batchSize,inputsAll,rInitZeros)"
   ]
  },
  {
   "cell_type": "code",
   "execution_count": null,
   "id": "69637848",
   "metadata": {},
   "outputs": [],
   "source": [
    "#To save the model, phi vectors, r sequences\n",
    "fileSave = 'data/rPhiModel'+flagMethod+'.pckl'\n",
    "\n",
    "rAll = np.array(rAll_); Phi = model.Phi\n",
    "\n",
    "utils.saveVar((errorList,rAll,Phi,model),fileSave)\n"
   ]
  },
  {
   "cell_type": "markdown",
   "id": "8a25a300",
   "metadata": {},
   "source": [
    "### Drawing loss \n"
   ]
  },
  {
   "cell_type": "code",
   "execution_count": null,
   "id": "220e6e61",
   "metadata": {},
   "outputs": [],
   "source": [
    "plotError(errorList)"
   ]
  },
  {
   "cell_type": "markdown",
   "id": "afc97dc1",
   "metadata": {},
   "source": [
    "### Drawing the columns of $\\Phi$  (receptive field)\n"
   ]
  },
  {
   "cell_type": "code",
   "execution_count": null,
   "id": "73d1d909",
   "metadata": {},
   "outputs": [],
   "source": [
    "plotReceptiveFields(model.Phi, numUnits, sz)\n"
   ]
  },
  {
   "cell_type": "code",
   "execution_count": null,
   "id": "ee0978f7",
   "metadata": {},
   "outputs": [],
   "source": []
  }
 ],
 "metadata": {
  "kernelspec": {
   "display_name": "Python 3 (ipykernel)",
   "language": "python",
   "name": "python3"
  },
  "language_info": {
   "codemirror_mode": {
    "name": "ipython",
    "version": 3
   },
   "file_extension": ".py",
   "mimetype": "text/x-python",
   "name": "python",
   "nbconvert_exporter": "python",
   "pygments_lexer": "ipython3",
   "version": "3.7.4"
  }
 },
 "nbformat": 4,
 "nbformat_minor": 5
}
